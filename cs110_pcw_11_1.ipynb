{
 "cells": [
  {
   "cell_type": "markdown",
   "metadata": {},
   "source": [
    "Before you turn this problem in, make sure everything runs as expected. First, **restart the kernel** (in the menubar, select Kernel$\\rightarrow$Restart) and then **run all cells** (in the menubar, select Cell$\\rightarrow$Run All).\n",
    "\n",
    "Make sure you fill in any place that says `YOUR CODE HERE` or \"YOUR ANSWER HERE\", as well as your name and collaborators below:"
   ]
  },
  {
   "cell_type": "code",
   "execution_count": 1,
   "metadata": {},
   "outputs": [],
   "source": [
    "NAME = \"Batsal Ghimire\"\n",
    "COLLABORATORS = \"\""
   ]
  },
  {
   "cell_type": "markdown",
   "metadata": {},
   "source": [
    "---"
   ]
  },
  {
   "cell_type": "markdown",
   "metadata": {
    "deletable": false,
    "editable": false,
    "nbgrader": {
     "checksum": "21540c1c5e00b9c4f14c9766c63b92ee",
     "grade": false,
     "grade_id": "cell-2258ae9711c0b029",
     "locked": true,
     "schema_version": 1,
     "solution": false
    }
   },
   "source": [
    "# CS110 Pre-class Work 11.1\n",
    "\n",
    "The pre-class work for this session will focus on the rod cutting problem. Recall that the rod cutting problem takes as an input the length n of a rodand a table of prices $p_i$ for $i = 1,2,... n$, and one needs to determine the maximum revenue $r$ obtainable by cutting up the rod and selling the pieces. \n",
    "\n",
    "## Part A. \n",
    "\n",
    "You will implement in Python two solutions to the rod cutting problem, namely:\n",
    "\n",
    "## Question 1. \n",
    "A recursive top-down solution to the rod cutting problem. Please complete the cut_rod function below:\n"
   ]
  },
  {
   "cell_type": "code",
   "execution_count": 2,
   "metadata": {
    "deletable": false,
    "nbgrader": {
     "checksum": "7237c900fdd06ab972ae58cfd3037231",
     "grade": false,
     "grade_id": "cell-d85ce9860c9ea1e5",
     "locked": false,
     "schema_version": 1,
     "solution": true
    }
   },
   "outputs": [],
   "source": [
    "def cut_rod(p,n):\n",
    "    \"\"\"\n",
    "    A recursive top-down solution to the rod cutting problem as described in \n",
    "    Cormen et. al. (pp 363) This calculates the maximum revenue that could be \n",
    "    earned by cutting up a rod of length n.\n",
    "    \n",
    "    Inputs;:\n",
    "    - p: list of floats, the prices of rods of different lengths. p[i] gives the dollars\n",
    "    of revenue the company earns selling a rod of length i+1.\n",
    "    - n: int, length of the rod\n",
    "    \n",
    "    Outputs:\n",
    "    - q: float, the optimal revenue\n",
    "    \"\"\"\n",
    "    if n == 0: #If the length of the rod is 0, then return 0\n",
    "        return 0\n",
    "    q = -float('inf') #Set the initial value of q to the least possible value to not interfere with the finding the max.\n",
    "    for i in range (n):\n",
    "        q = max(q, p[i]+cut_rod(p, n-i-1)) #Recursive function to find the max of all the combinations of cuts.\n",
    "    return q"
   ]
  },
  {
   "cell_type": "code",
   "execution_count": 3,
   "metadata": {
    "deletable": false,
    "editable": false,
    "nbgrader": {
     "checksum": "10d4aaa19c12d9b56addd9cca9b13975",
     "grade": true,
     "grade_id": "cell-0288a4047be5088d",
     "locked": true,
     "points": 1,
     "schema_version": 1,
     "solution": false
    }
   },
   "outputs": [],
   "source": [
    "# price list from textbook\n",
    "p = [1,5,8,9,10,17,17,20,24,30] #p[i] gives the price of length i+1\n",
    "\n",
    "#results from textbook\n",
    "r = [0,1,5,8,10,13,17,18,22,25,30]\n",
    "for i in range(len(r)):\n",
    "    assert(cut_rod(p,i)==r[i])"
   ]
  },
  {
   "cell_type": "markdown",
   "metadata": {
    "deletable": false,
    "editable": false,
    "nbgrader": {
     "checksum": "66f4b595bbff340b7c3114c913a755aa",
     "grade": false,
     "grade_id": "cell-cb7764a3a73bcdb7",
     "locked": true,
     "schema_version": 1,
     "solution": false
    }
   },
   "source": [
    "## Question 2.\n",
    "\n",
    "An optimal rod cutting solution using dynamic programming (see figure [here](https://drive.google.com/open?id=1nu9gETKX4KJCHZDi17fZLQtkDVig81Zk) for inspiration). Please complete the following two functions: \n"
   ]
  },
  {
   "cell_type": "code",
   "execution_count": 4,
   "metadata": {
    "deletable": false,
    "nbgrader": {
     "checksum": "6684945acab69b9f7ed6c202452bc769",
     "grade": false,
     "grade_id": "cell-eb49e8516ebf80aa",
     "locked": false,
     "schema_version": 1,
     "solution": true
    }
   },
   "outputs": [],
   "source": [
    "def extended_bottom_up_cut_rod(p,n):\n",
    "    \"\"\"\n",
    "    Implements a bottom-up dynamic programming approach to the rod cutting problem.\n",
    "    Here, \"extended\" means the function is geared in a way amenable to reconstructing\n",
    "    an optimal solution, on top of the returned optimal value. See Cormen et al.,\n",
    "    p. 269 for the implementation details.\n",
    "    \n",
    "    Inputs:\n",
    "    - p: list of floats, the prices of rods of different lengths. p[i] gives the dollars\n",
    "    of revenue the company earns selling a rod of length i+1.\n",
    "    - n: int, length of the rod\n",
    "    \n",
    "    Outputs:\n",
    "    - r: list of floats, the maximum revenues. r[i] gives the maximum revenue for a rod\n",
    "    of length i. As such:\n",
    "        * r[0] = 0\n",
    "        * len(r) == n + 1\n",
    "    - s: list of ints, the optimal sizes of the first piece to cut off. Also make sure \n",
    "    that:\n",
    "        * s[0] = 0\n",
    "        * len(s) == n + 1\n",
    "    \"\"\"\n",
    "    #Create two lists will all ones.\n",
    "    r = [0 for i in range(n+1)] \n",
    "    s = [0 for i in range(n+1)]\n",
    "    for j in range (1,n+1):\n",
    "        q = -float('inf')\n",
    "        for i in range (j):\n",
    "            if q<p[i]+r[j-i-1]:\n",
    "                q = p[i] + r[j-i-1]\n",
    "                s[j] = i+1\n",
    "        r[j] = q\n",
    "    return r, s    "
   ]
  },
  {
   "cell_type": "code",
   "execution_count": 5,
   "metadata": {
    "deletable": false,
    "nbgrader": {
     "checksum": "0721b1c26ef2b06505e7329f286ba386",
     "grade": false,
     "grade_id": "cell-1d52c9519ccb3502",
     "locked": false,
     "schema_version": 1,
     "solution": true
    }
   },
   "outputs": [
    {
     "data": {
      "text/plain": [
       "([0, 1, 5, 8, 10, 13, 17, 18, 22, 25, 30], [0, 1, 2, 3, 2, 2, 6, 1, 2, 3, 10])"
      ]
     },
     "execution_count": 5,
     "metadata": {},
     "output_type": "execute_result"
    }
   ],
   "source": [
    "def print_cut_rod_solution(p,n):\n",
    "    \"\"\"\n",
    "    Gives a solution to the rod cutting problem of size n. \n",
    "    \n",
    "    Inputs:\n",
    "    - p: list of floats, the prices of rods of different lengths. p[i] gives the revenue (in USD, for example) the company earns selling a rod of length i+1.\n",
    "    - n: int, length of the rod\n",
    "    \n",
    "    Outputs:\n",
    "    - sol: a list of ints, indicating how to cut the rod. Cutting the rod with the lengths\n",
    "    given in sol gives the optimal revenue.\n",
    "        * print_cut_rod_solution(p,0) == []\n",
    "    \"\"\"\n",
    "    r,s = extended_bottom_up_cut_rod(p,n)\n",
    "    while n>0:\n",
    "        print (s[n])\n",
    "        n = n-s[n]\n",
    "        \n",
    "p = [1,5,8,9,10,17,17,20,24,30] #p[i] gives the price of length i+1\n",
    "# Result of R and S from textbook:\n",
    "R = [0,1,5,8,10,13,17,18,22,25,30]\n",
    "S = [0,1,2,3,2,2,6,1,2,3,10]\n",
    "# Test:\n",
    "extended_bottom_up_cut_rod(p,10)"
   ]
  },
  {
   "cell_type": "code",
   "execution_count": 6,
   "metadata": {
    "deletable": false,
    "editable": false,
    "nbgrader": {
     "checksum": "78b3a62a448ff29e2050fdadd39dc70f",
     "grade": true,
     "grade_id": "cell-6575aa2769e0eab1",
     "locked": true,
     "points": 1,
     "schema_version": 1,
     "solution": false
    }
   },
   "outputs": [],
   "source": [
    "# price list from textbook\n",
    "p = [1,5,8,9,10,17,17,20,24,30] #p[i] gives the price of length i+1\n",
    "# Result of R and S from textbook:\n",
    "R = [0,1,5,8,10,13,17,18,22,25,30]\n",
    "S = [0,1,2,3,2,2,6,1,2,3,10]\n",
    "# Test:\n",
    "r, s = extended_bottom_up_cut_rod(p,10)\n",
    "assert(r==R)\n",
    "assert(s==S)"
   ]
  },
  {
   "cell_type": "markdown",
   "metadata": {
    "deletable": false,
    "editable": false,
    "nbgrader": {
     "checksum": "0937ad8ecbd17b5eca4db79a21d117b8",
     "grade": false,
     "grade_id": "cell-0832a56453a9026d",
     "locked": true,
     "schema_version": 1,
     "solution": false
    }
   },
   "source": [
    "## Part B - Experiments\n",
    "\n",
    "## Question 1.\n",
    "\n",
    "Use the function below to generate a list of prices of length n=20 and assign that list to a new variable, `P`. You MUST use this list for parts 2 and 3 below.\n"
   ]
  },
  {
   "cell_type": "code",
   "execution_count": 7,
   "metadata": {},
   "outputs": [],
   "source": [
    "import numpy as np\n",
    "def generate_price_list(n):\n",
    "    \"\"\"Generates a price list of length n\n",
    "    \n",
    "    Inputs:\n",
    "    - n: integer, length of the list, must be positive\n",
    "    \n",
    "    Outputs:\n",
    "    - p: list, the ordered price list for each rod cut\n",
    "    \"\"\"\n",
    "    p = [1]\n",
    "    for i in range(1,n):\n",
    "        np.random.seed(0)\n",
    "        p.append(np.random.randint(p[i-1]+1, i*3+1))\n",
    "    return p\n"
   ]
  },
  {
   "cell_type": "code",
   "execution_count": 8,
   "metadata": {},
   "outputs": [],
   "source": [
    "p = generate_price_list(20)"
   ]
  },
  {
   "cell_type": "markdown",
   "metadata": {
    "deletable": false,
    "editable": false,
    "nbgrader": {
     "checksum": "deeb7b0872934debc2d63c1647b5ac06",
     "grade": false,
     "grade_id": "cell-c7fdedff7b334b75",
     "locked": true,
     "schema_version": 1,
     "solution": false
    }
   },
   "source": [
    "## Question 2.\n",
    "\n",
    "Time (using the time library) the implementation of `cut_rod` for different rod lengths for values of up to $n=20.$ Present your results in a plot. \n"
   ]
  },
  {
   "cell_type": "code",
   "execution_count": 12,
   "metadata": {
    "deletable": false,
    "nbgrader": {
     "checksum": "99c151824efdb32faba7a3f771d1b9f6",
     "grade": true,
     "grade_id": "cell-e094e913d8bc139f",
     "locked": false,
     "points": 0,
     "schema_version": 1,
     "solution": true
    }
   },
   "outputs": [
    {
     "data": {
      "image/png": "[encoded data removed]",
      "text/plain": [
       "<Figure size 432x288 with 1 Axes>"
      ]
     },
     "metadata": {
      "needs_background": "light"
     },
     "output_type": "display_data"
    },
    {
     "name": "stdout",
     "output_type": "stream",
     "text": [
      "[0.0, 0.0, 0.0, 0.0, 0.0, 0.00010325908660888672, 0.0, 9.963512420654296e-05, 0.0001959562301635742, 0.0004024982452392578, 0.0005983829498291016, 0.001995229721069336, 0.004288029670715332, 0.006379175186157227, 0.011968255043029785, 0.024438118934631346, 0.052455782890319824, 0.11668782234191895, 0.25751428604125975, 0.6605334281921387, 1.18362295627594]\n"
     ]
    }
   ],
   "source": [
    "import matplotlib.pyplot as plt\n",
    "import time\n",
    "trials = 10\n",
    "len_list = 20\n",
    "lis_tm = []\n",
    "for n in range(len_list+1):\n",
    "    tm = 0\n",
    "    for trial in range(trials):\n",
    "        begin_tm = time.time()\n",
    "        cut_rod(p,n)\n",
    "        tm +=  time.time() - begin_tm\n",
    "    lis_tm.append(tm/trials)\n",
    "\n",
    "#Plotting the relation\n",
    "plt.xlabel(\"Length of rods\")\n",
    "plt.ylabel(\"Time in seconds\")\n",
    "plt.plot([k for k in range(len_list+1)], lis_tm)\n",
    "plt.show()\n",
    "print (lis_tm)"
   ]
  },
  {
   "cell_type": "markdown",
   "metadata": {
    "deletable": false,
    "editable": false,
    "nbgrader": {
     "checksum": "b8fa06392ba05e21f83f34e1bd84c0e4",
     "grade": false,
     "grade_id": "cell-8076e5401f46000c",
     "locked": true,
     "schema_version": 1,
     "solution": false
    }
   },
   "source": [
    "## Question 3.\n",
    "\n",
    "Time (using the time library) the implementation of `extended_bottom_up_cut_rod` for different rod lengths for values of up to $n=20$. Add the curve corresponding to this algorithm to the previous plot."
   ]
  },
  {
   "cell_type": "code",
   "execution_count": 15,
   "metadata": {
    "deletable": false,
    "nbgrader": {
     "checksum": "a06be2cc09d0a0b5fa89b8d110ec18a7",
     "grade": true,
     "grade_id": "cell-210aa3d5a2743bd8",
     "locked": false,
     "points": 0,
     "schema_version": 1,
     "solution": true
    }
   },
   "outputs": [
    {
     "name": "stdout",
     "output_type": "stream",
     "text": [
      "[9.970664978027343e-05, 0.0, 0.0, 0.0, 0.0, 0.0, 0.0, 0.0, 0.0, 0.0, 0.0, 0.0, 9.975433349609374e-05, 0.0, 0.0, 0.0, 9.97304916381836e-05, 0.0, 0.0, 9.975433349609374e-05, 0.0001995563507080078]\n"
     ]
    },
    {
     "data": {
      "image/png": "[encoded data removed]",
      "text/plain": [
       "<Figure size 432x288 with 1 Axes>"
      ]
     },
     "metadata": {
      "needs_background": "light"
     },
     "output_type": "display_data"
    }
   ],
   "source": [
    "trials = 10\n",
    "len_list = 20\n",
    "lis_tm = []\n",
    "for n in range(len_list+1):\n",
    "    tm = 0\n",
    "    for trial in range(trials):\n",
    "        begin_tm = time.time()\n",
    "        extended_bottom_up_cut_rod(p,n)\n",
    "        tm +=  time.time() - begin_tm\n",
    "    lis_tm.append(tm/trials)\n",
    "print (lis_tm)\n",
    "#Plotting the relation\n",
    "plt.xlabel(\"Time in seconds\")\n",
    "plt.ylabel(\"Rod Lengths\")\n",
    "plt.plot([k for k in range(len_list+1)], lis_tm)\n",
    "plt.show()"
   ]
  },
  {
   "cell_type": "markdown",
   "metadata": {
    "deletable": false,
    "editable": false,
    "nbgrader": {
     "checksum": "1c820ccd68543bac236215ff32626ae1",
     "grade": false,
     "grade_id": "cell-5aa5079c4bcac376",
     "locked": true,
     "schema_version": 1,
     "solution": false
    }
   },
   "source": [
    "## Question 4.\n",
    "\n",
    "Contrast both curves. What can you conclude?"
   ]
  },
  {
   "cell_type": "markdown",
   "metadata": {
    "deletable": false,
    "nbgrader": {
     "checksum": "921656651f11cce29dfe7bf75650d129",
     "grade": true,
     "grade_id": "cell-0e62cc5b19840488",
     "locked": false,
     "points": 0,
     "schema_version": 1,
     "solution": true
    }
   },
   "source": [
    "We can see from the graph that, for the recursive approach, as 'n' increases the time taken also grows exponentially. From n=15, the graph grew rapidly and the time taken was greater than a second for n=20. On the other hand, for the extended function, the time taken was less than a very small fraction of a second. This shows the second way is much more quicker than the first one.\n",
    "\n",
    "The results follow from the theoretical explanation, since the time complexity for the first approach was $O(2^n)$, which we see from the graph as well. For the second one, the time module rounded up smaller numbers to 0. But, we should see a graph to look like the function of $n^2$ as the length increases"
   ]
  },
  {
   "cell_type": "markdown",
   "metadata": {
    "deletable": false,
    "editable": false,
    "nbgrader": {
     "checksum": "a69d913354531fef3bd30538d2f77e96",
     "grade": false,
     "grade_id": "cell-15e017ea29c2ae87",
     "locked": true,
     "schema_version": 1,
     "solution": false
    }
   },
   "source": [
    "## Part C - After completing your experiments above, answer the following questions:\n",
    "\n",
    "## Question 1.\n",
    "Estimate how big $n$ has to be before the non-dynamic-programming version will take a million years to finish. Call this value N."
   ]
  },
  {
   "cell_type": "markdown",
   "metadata": {
    "deletable": false,
    "nbgrader": {
     "checksum": "ee93061dcb5a4ab6fba26904d7230956",
     "grade": true,
     "grade_id": "cell-a11f4fd6a03e2cf5",
     "locked": false,
     "points": 0,
     "schema_version": 1,
     "solution": true
    }
   },
   "source": [
    "I printed out the times from the first graph, and the time taken when n=20 is 0.8112792253494263, which we can round off to 0.81. The time complexity for the approach is $O(2^n)$, but there should be a constant present for the actual function  i.e. $k.2^n$.\n",
    "$$0.81 = k \\times 2^20$$\n",
    "$$ k = 7.72 \\times 10^{-7}$$\n",
    "\n",
    "So, we can convert million years to seconds which is: $3.15 \\times 10^{13}$ seconds.\n",
    "\n",
    "So,\n",
    "\n",
    "$3.15 \\times 10^{13} = 7.72 \\times 10^{-7} \\times 2^n$\n",
    "\n",
    "$2^n = 4.08 \\times 10^{19}$\n",
    "\n",
    "$ n = log_2(4.08 \\times 10^{19})$\n",
    "\n",
    "$ n = 65.14 $\n",
    "\n",
    "So, the length should be around 65 for the first function to take a million years to run it."
   ]
  },
  {
   "cell_type": "markdown",
   "metadata": {
    "deletable": false,
    "editable": false,
    "nbgrader": {
     "checksum": "2a89a2ec215e318b3c6f14141437f812",
     "grade": false,
     "grade_id": "cell-53a067a7b6a21694",
     "locked": true,
     "schema_version": 1,
     "solution": false
    }
   },
   "source": [
    "## Question 2.\n",
    "Estimate (or time) how long it takes to evaluate `extended_bottom_up_cut_rod(p,N)`, where `N` is the value you got from the previous question. "
   ]
  },
  {
   "cell_type": "code",
   "execution_count": 16,
   "metadata": {
    "deletable": false,
    "nbgrader": {
     "checksum": "45ccf902eb5847cbae75c4394b6d7cb7",
     "grade": true,
     "grade_id": "cell-89ed2dd6f3310c96",
     "locked": false,
     "points": 0,
     "schema_version": 1,
     "solution": true
    }
   },
   "outputs": [
    {
     "data": {
      "image/png": "[encoded data removed]",
      "text/plain": [
       "<Figure size 432x288 with 1 Axes>"
      ]
     },
     "metadata": {
      "needs_background": "light"
     },
     "output_type": "display_data"
    }
   ],
   "source": [
    "trials = 10\n",
    "len_list = 65\n",
    "lis_tm = []\n",
    "p = []\n",
    "for i in range(len_list):\n",
    "    p.append(i)\n",
    "for n in range(len_list+1):\n",
    "    tm = 0\n",
    "    for trial in range(trials):\n",
    "        begin_tm = time.time()\n",
    "        extended_bottom_up_cut_rod(p,n)\n",
    "        tm +=  time.time() - begin_tm\n",
    "    lis_tm.append(tm/trials)\n",
    "#Plotting the relation\n",
    "plt.xlabel(\"Time in seconds\")\n",
    "plt.ylabel(\"Rod Lengths\")\n",
    "plt.plot([k for k in range(len_list+1)], lis_tm)\n",
    "plt.show()"
   ]
  },
  {
   "cell_type": "markdown",
   "metadata": {},
   "source": [
    "The estimated time was 0.0003 seconds."
   ]
  },
  {
   "cell_type": "markdown",
   "metadata": {
    "deletable": false,
    "editable": false,
    "nbgrader": {
     "checksum": "f273d3c9906b4a2f9069dec4ec6d9e98",
     "grade": false,
     "grade_id": "cell-570ff6554dfb5b4f",
     "locked": true,
     "schema_version": 1,
     "solution": false
    }
   },
   "source": [
    "## [Optional]  Question 3. \n",
    "Do you notice anything peculiar about the solution for large n?"
   ]
  },
  {
   "cell_type": "markdown",
   "metadata": {
    "deletable": false,
    "nbgrader": {
     "checksum": "15a99ef0f160ca439cb8be6e2c4f2384",
     "grade": true,
     "grade_id": "cell-fd4c9c91a42f178a",
     "locked": false,
     "points": 0,
     "schema_version": 1,
     "solution": true
    }
   },
   "source": [
    "YOUR ANSWER HERE"
   ]
  }
 ],
 "metadata": {
  "kernelspec": {
   "display_name": "Python 3",
   "language": "python",
   "name": "python3"
  },
  "language_info": {
   "codemirror_mode": {
    "name": "ipython",
    "version": 3
   },
   "file_extension": ".py",
   "mimetype": "text/x-python",
   "name": "python",
   "nbconvert_exporter": "python",
   "pygments_lexer": "ipython3",
   "version": "3.7.4"
  }
 },
 "nbformat": 4,
 "nbformat_minor": 2
}
