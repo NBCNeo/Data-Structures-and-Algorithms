{
 "cells": [
  {
   "cell_type": "markdown",
   "metadata": {},
   "source": [
    "Before you turn this problem in, make sure everything runs as expected. First, **restart the kernel** (in the menubar, select Kernel$\\rightarrow$Restart) and then **run all cells** (in the menubar, select Cell$\\rightarrow$Run All).\n",
    "\n",
    "Make sure you fill in any place that says `YOUR CODE HERE` or \"YOUR ANSWER HERE\", as well as your name and collaborators below:"
   ]
  },
  {
   "cell_type": "code",
   "execution_count": 77,
   "metadata": {},
   "outputs": [],
   "source": [
    "NAME = \"Batsal Ghimire\"\n",
    "COLLABORATORS = \"\""
   ]
  },
  {
   "cell_type": "markdown",
   "metadata": {},
   "source": [
    "---"
   ]
  },
  {
   "cell_type": "markdown",
   "metadata": {
    "deletable": false,
    "editable": false,
    "nbgrader": {
     "checksum": "b829d01fa88366d60630dae1299fa764",
     "grade": false,
     "grade_id": "cell-d94cea4a211410ce",
     "locked": true,
     "schema_version": 1,
     "solution": false
    }
   },
   "source": [
    "# CS110 Pre-class Work 7.1\n",
    "\n",
    "## Part A. Median Heap (watch this [video explanation](https://www.youtube.com/watch?v=756_8C9YBZQ&list=PLF_a-qBXTGFektoI6JUOTRL36JlvD04BR&index=5&t=0s) or read this [description](https://stackoverflow.com/a/15319593/7946759))\n",
    "\n",
    "Throughout this pre-class work, please use the following definition of median: the median of a list of numbers is the one in the middle of the list when the list is ordered. When such the middle element can’t be determined (i.e., in a list of even length), the average of the two middle elements is the median. For example, 5 is the median of [-1,2,4,5,8,10,12], and (5+7)/2=6 is the median of [1,2,3,5,7,8,10,11].\n",
    "\n",
    "Using the idea from Lesson 3.2, we can use a pair of heaps to create a data structure which allows fast access to the median. Use the heapq module in python to create both a max-heap and a min-heap. Note that by default, the heapq module in python only creates min-heaps, but if we multiply elements by -1 when we store them, then we can also create max-heaps.\n",
    "\n",
    "\n",
    "## Question 1.\n",
    "Write a function `add_to_median_heap(minh, maxh, elem)`. It must accept a min heap, a max heap, and an element to add.\n"
   ]
  },
  {
   "cell_type": "code",
   "execution_count": 78,
   "metadata": {
    "deletable": false,
    "nbgrader": {
     "checksum": "3f8e0bb0de793ce786eba2f6715d69b3",
     "grade": false,
     "grade_id": "cell-50cb08de70712ee7",
     "locked": false,
     "schema_version": 1,
     "solution": true
    }
   },
   "outputs": [
    {
     "name": "stdout",
     "output_type": "stream",
     "text": [
      "[6, 7, 9, 10, 8] [5, 4, 1, 3]\n"
     ]
    }
   ],
   "source": [
    "import heapq\n",
    "def add_to_median_heap(minh, maxh, elem):\n",
    "    if abs(len(maxh) - len(minh)) <= 1: #Ensures that the difference between the length of the two lists are not greater than 1.\n",
    "        if (len(maxh) == 0) or (len(minh) > len(maxh)): #If the maxh is empty or it is smaller than minh.\n",
    "            maxh.append(elem) #In that case, add the element to maxh list.\n",
    "        elif(len(minh) == 0) or (len(maxh) > len(minh)): #If the minh is empty or minh is smaller than maxh.\n",
    "            minh.append(elem) #Add the element to the minh list.\n",
    "        else: #If both the list size is equal and not empty.\n",
    "            if (elem >= maxh[0]) and elem >= minh[0]: #If the element is greater than or equal to the prioritized element from max and min heap.\n",
    "                maxh.append(heapq.heappop(minh)) #Pop the value from minh and add it to maxh\n",
    "                minh.append(elem) #Add the new element in the min heap.\n",
    "            elif (elem <=  minh[0] and elem <= maxh[0]):#If the element is smaller than or equal to the prioritized element from max and min heap.\n",
    "                minh.append(heapq.heappop(maxh))#Pop the value from the maxh and add it to minh\n",
    "                maxh.append(elem) #Add the new element in the maxheap.\n",
    "            elif (elem >=  maxh[0]): #If the new element is greater than or equal to maxh.\n",
    "                minh.append(elem) #Add the element to the minh.\n",
    "            else: \n",
    "                maxh.append(elem) #If the new element is greater than minh, add it to maxh.\n",
    "        heapq.heapify(minh) #Heapify the list to maintain the properties.\n",
    "        heapq._heapify_max(maxh)\n",
    "    else:\n",
    "        print (\"List size is not valid.\") #If the difference of size of the two lists is 2 or more.\n",
    "    return maxh, minh #Return the minh and maxh.\n",
    "                \n",
    "#Test case:\n",
    "ret = add_to_median_heap([7,8,9,10],[1,4,5,3],6)\n",
    "minh = ret[1] #Adds the second value returned to the minh.\n",
    "maxh = ret[0] #Adds the first value returned to the maxh\n",
    "print (minh, maxh) #Print the two values."
   ]
  },
  {
   "cell_type": "markdown",
   "metadata": {
    "deletable": false,
    "editable": false,
    "nbgrader": {
     "checksum": "47ae2ae64e7e5a094e32b8e29577ebd2",
     "grade": false,
     "grade_id": "cell-b62f7899e36af96f",
     "locked": true,
     "schema_version": 1,
     "solution": false
    }
   },
   "source": [
    "## Question 2\n",
    "Write a function `median(minh, maxh)`. It must return the median element.\n"
   ]
  },
  {
   "cell_type": "code",
   "execution_count": 79,
   "metadata": {
    "deletable": false,
    "nbgrader": {
     "checksum": "4fdb08f74f611846be80db8164227117",
     "grade": false,
     "grade_id": "cell-43ce866dd1dc2d5b",
     "locked": false,
     "schema_version": 1,
     "solution": true
    }
   },
   "outputs": [
    {
     "data": {
      "text/plain": [
       "6"
      ]
     },
     "execution_count": 79,
     "metadata": {},
     "output_type": "execute_result"
    }
   ],
   "source": [
    "def median(minh, maxh): #Function to find the median.\n",
    "    if len(maxh) > len(minh): #If the length of maxheap is greater than minheap, return the value of maxheap\n",
    "        return maxh[0]\n",
    "    elif len(minh) > len(maxh):#If the length of minheap is greater than maxheap, return the value of minheap\n",
    "        return minh[0]\n",
    "    else:\n",
    "        return (maxh[0] + minh[0])/2 #If both the lists have equal length, sum up the two prioritized elements and divide it by 2 to find the median.\n",
    "median (minh, maxh)"
   ]
  },
  {
   "cell_type": "code",
   "execution_count": 80,
   "metadata": {
    "deletable": false,
    "editable": false,
    "nbgrader": {
     "checksum": "9f79f245efea8c7b7d7c444af36ad997",
     "grade": true,
     "grade_id": "cell-673faa69bf330eda",
     "locked": true,
     "points": 0,
     "schema_version": 1,
     "solution": false
    }
   },
   "outputs": [],
   "source": [
    "# Please ignore this cell. This cell is for us to implement the tests \n",
    "# to see if your code works properly. "
   ]
  },
  {
   "cell_type": "markdown",
   "metadata": {
    "deletable": false,
    "editable": false,
    "nbgrader": {
     "checksum": "ea112ad1eac7cf41487236cf22381071",
     "grade": false,
     "grade_id": "cell-ec86b3a3c5adaedf",
     "locked": true,
     "schema_version": 1,
     "solution": false
    }
   },
   "source": [
    "## Question 3.\n",
    "\n",
    "Uncomment and run the testing code given below to test your functions. It should print out numbers ranging from 1 to 50, in that order."
   ]
  },
  {
   "cell_type": "code",
   "execution_count": 81,
   "metadata": {},
   "outputs": [
    {
     "name": "stdout",
     "output_type": "stream",
     "text": [
      "1.0\n",
      "2.0\n",
      "3.0\n",
      "4.0\n",
      "5.0\n",
      "6.0\n",
      "7.0\n",
      "8.0\n",
      "9.0\n",
      "10.0\n",
      "11.0\n",
      "12.0\n",
      "13.0\n",
      "14.0\n",
      "15.0\n",
      "16.0\n",
      "17.0\n",
      "18.0\n",
      "19.0\n",
      "20.0\n",
      "21.0\n",
      "22.0\n",
      "23.0\n",
      "24.0\n",
      "25.0\n",
      "26.0\n",
      "27.0\n",
      "28.0\n",
      "29.0\n",
      "30.0\n",
      "31.0\n",
      "32.0\n",
      "33.0\n",
      "34.0\n",
      "35.0\n",
      "36.0\n",
      "37.0\n",
      "38.0\n",
      "39.0\n",
      "40.0\n",
      "41.0\n",
      "42.0\n",
      "43.0\n",
      "44.0\n",
      "45.0\n",
      "46.0\n",
      "47.0\n",
      "48.0\n",
      "49.0\n",
      "50.0\n"
     ]
    }
   ],
   "source": [
    "minh = []\n",
    "maxh = []\n",
    "for a in range(1,100,2):\n",
    "    add_to_median_heap(minh, maxh, a)\n",
    "    print(float(median(minh, maxh)))  "
   ]
  },
  {
   "cell_type": "markdown",
   "metadata": {
    "deletable": false,
    "editable": false,
    "nbgrader": {
     "checksum": "be3a94b3063c99a265c7b868e45a5f69",
     "grade": false,
     "grade_id": "cell-11d4510a48c38394",
     "locked": true,
     "schema_version": 1,
     "solution": false
    }
   },
   "source": [
    "## Question 4.\n",
    "What’s the worst case complexity to build a median heap using `add_to_median_heap`?"
   ]
  },
  {
   "cell_type": "markdown",
   "metadata": {
    "deletable": false,
    "nbgrader": {
     "checksum": "4ddd5b5c6be74e7306bd08ee76a1b858",
     "grade": true,
     "grade_id": "cell-c8e33ebdc8aaf328",
     "locked": false,
     "points": 0,
     "schema_version": 1,
     "solution": true
    }
   },
   "source": [
    "The worst case scenario for the heapify function is O(n). If we look at the code, we can see that at each run of the function, we need to ensure the correctness of the max and min heap properties. Rest of the operations have smaller order of growth (i.e. linear or logarithmic time), so we can consider the final complexity to be O(n)."
   ]
  },
  {
   "cell_type": "markdown",
   "metadata": {
    "deletable": false,
    "editable": false,
    "nbgrader": {
     "checksum": "8a1276ebbad9b1292badcb9090c8a910",
     "grade": false,
     "grade_id": "cell-dada08b7f913c96f",
     "locked": true,
     "schema_version": 1,
     "solution": false
    }
   },
   "source": [
    "## Question 5.\n",
    "What’s the worst case complexity of `median`?"
   ]
  },
  {
   "cell_type": "markdown",
   "metadata": {
    "deletable": false,
    "nbgrader": {
     "checksum": "7d67e5e84a28b798ba456d72603533f0",
     "grade": true,
     "grade_id": "cell-c061920faa337890",
     "locked": false,
     "points": 0,
     "schema_version": 1,
     "solution": true
    }
   },
   "source": [
    "There should be no worst case for the median, since it's runtime is not dependent on the size of the arrays. Therefore, we have a constant time factor, O(1)."
   ]
  },
  {
   "cell_type": "markdown",
   "metadata": {
    "deletable": false,
    "editable": false,
    "nbgrader": {
     "checksum": "73694bd23377143032d5224818a389b7",
     "grade": false,
     "grade_id": "cell-fcf89277dcd46cbe",
     "locked": true,
     "schema_version": 1,
     "solution": false
    }
   },
   "source": [
    "## Question 6.\n",
    "\n",
    "How does this way of finding the median compare with the vanilla way of sorting the list and pick the middle element? Use arguments based on efficiency or clearity of the respective algorithms."
   ]
  },
  {
   "cell_type": "markdown",
   "metadata": {
    "deletable": false,
    "nbgrader": {
     "checksum": "733fe35313ebf5888c622423bb7462b4",
     "grade": true,
     "grade_id": "cell-1f31afecda9730a7",
     "locked": false,
     "points": 0,
     "schema_version": 1,
     "solution": true
    }
   },
   "source": [
    "The algorithms we used before to sort the elements, and find the median (i.e. merge sort, quicksort, etc.) had the best case and average case time complexity of O(n log(n)). And, as we showed before, the time complexity of this method is O(n). Therefore, this method is more efficient in terms of the order of growth."
   ]
  },
  {
   "cell_type": "markdown",
   "metadata": {
    "deletable": false,
    "editable": false,
    "nbgrader": {
     "checksum": "d4869e0b17f0248df4c3ae91668257e8",
     "grade": false,
     "grade_id": "cell-695c23986b831032",
     "locked": true,
     "schema_version": 1,
     "solution": false
    }
   },
   "source": [
    "## [Optional] Question 7.\n",
    "\n",
    "Is it possible to extend this idea to any percentile? If it is, then write code to do so. If it’s not possible, prove why it is not possible."
   ]
  },
  {
   "cell_type": "code",
   "execution_count": 82,
   "metadata": {
    "deletable": false,
    "nbgrader": {
     "checksum": "c293e85a4cf43662dc635c9e0f511be4",
     "grade": true,
     "grade_id": "cell-4d0c197e6d484338",
     "locked": false,
     "points": 0,
     "schema_version": 1,
     "solution": true
    }
   },
   "outputs": [],
   "source": [
    "# # YOUR CODE HERE\n",
    "# raise NotImplementedError()"
   ]
  },
  {
   "cell_type": "markdown",
   "metadata": {
    "deletable": false,
    "editable": false,
    "nbgrader": {
     "checksum": "bd7ff85760b2e8303c3b4482b6ca44b2",
     "grade": false,
     "grade_id": "cell-3cba7ecc0de11f1b",
     "locked": true,
     "schema_version": 1,
     "solution": false
    }
   },
   "source": [
    "## Part B. Quickselect\n",
    "\n",
    "Quicksort can be modified to find the $k$-th smallest element in an unordered list. This is known as quickselect. It does this by choosing a partition (as in quicksort). Once the list has been partitioned then we know how many elements lie to the left and to the right of the partition. This allows us to recursively call quickselect on the correct sublist.\n",
    "\n",
    "## Question 1.\n",
    "\n",
    "Write a function `qselect(lst, k)`, which takes both a list and an index $k$. The function must then return the $k$-th smallest item in the list.\n"
   ]
  },
  {
   "cell_type": "code",
   "execution_count": 83,
   "metadata": {
    "deletable": false,
    "nbgrader": {
     "checksum": "3714ebe85f9dbc77eb3bb3c106a009ea",
     "grade": false,
     "grade_id": "cell-fb9c2bc9d5b4bc92",
     "locked": false,
     "schema_version": 1,
     "solution": true
    }
   },
   "outputs": [],
   "source": [
    "def qselect(lst,k):\n",
    "        if k<0 or k>len(lst)-1:\n",
    "            return print (\"OUT OF INDEX\")\n",
    "        return selection(lst, k, 0, len(lst)-1)\n",
    "        \n",
    "def partition(A,p,r):\n",
    "    pivot = A[r] #Takes last element of the array as the pivot\n",
    "    index = p-1 #Creates the index as  -1.\n",
    "    for i in range(p,r): #Iterated through the array\n",
    "        if A[i] <= pivot: #Checks if the i-th element is samller than the pivot element\n",
    "            index += 1 #Increments the index by 1 if true\n",
    "            A[index],A[i] = A[i], A[index] #Swaps the two elements to ensure that the smaller elements are to the left and bigger ones to the right.\n",
    "    A[index+1],A[r] = A[r], A[index+1] #Moves the pivot element after the smaller left part\n",
    "    return index+1 #Returns the index of the pivot.\n",
    "\n",
    "def selection(lst, k, l, h):\n",
    "    if l == h:\n",
    "        return arr[l]\n",
    "    q = partition(lst, l, h)\n",
    "    if k == q:\n",
    "        return lst[k]\n",
    "    elif k<q:\n",
    "        return selection (lst, k, l, q-1)\n",
    "    else:\n",
    "        return selection(lst, k, q+1, h)"
   ]
  },
  {
   "cell_type": "code",
   "execution_count": 86,
   "metadata": {
    "deletable": false,
    "editable": false,
    "nbgrader": {
     "checksum": "5ee41421528107f7ae195a7197a5d6d9",
     "grade": true,
     "grade_id": "cell-85a25ed6a1f62a66",
     "locked": true,
     "points": 0,
     "schema_version": 1,
     "solution": false
    }
   },
   "outputs": [],
   "source": [
    "import random\n",
    "random.seed(123) # introducing a seed for reproducibility purposes\n",
    "lst1 = list(range(100))\n",
    "random.shuffle(lst1)\n",
    "lst2 = []\n",
    "for a in range(100):\n",
    "    lst2.append(qselect(lst1, a))\n",
    "assert(lst2 == list(range(100)))"
   ]
  },
  {
   "cell_type": "markdown",
   "metadata": {
    "deletable": false,
    "editable": false,
    "nbgrader": {
     "checksum": "54fddc25ea0529f44aa6653b18ff7745",
     "grade": false,
     "grade_id": "cell-8013044acd03642a",
     "locked": true,
     "schema_version": 1,
     "solution": false
    }
   },
   "source": [
    "## Question 2.\n",
    "Uncomment and run the testing code given below to test your function. It should print out integers from 0 to 99.\n"
   ]
  },
  {
   "cell_type": "code",
   "execution_count": 87,
   "metadata": {},
   "outputs": [
    {
     "name": "stdout",
     "output_type": "stream",
     "text": [
      "0\n",
      "1\n",
      "2\n",
      "3\n",
      "4\n",
      "5\n",
      "6\n",
      "7\n",
      "8\n",
      "9\n",
      "10\n",
      "11\n",
      "12\n",
      "13\n",
      "14\n",
      "15\n",
      "16\n",
      "17\n",
      "18\n",
      "19\n",
      "20\n",
      "21\n",
      "22\n",
      "23\n",
      "24\n",
      "25\n",
      "26\n",
      "27\n",
      "28\n",
      "29\n",
      "30\n",
      "31\n",
      "32\n",
      "33\n",
      "34\n",
      "35\n",
      "36\n",
      "37\n",
      "38\n",
      "39\n",
      "40\n",
      "41\n",
      "42\n",
      "43\n",
      "44\n",
      "45\n",
      "46\n",
      "47\n",
      "48\n",
      "49\n",
      "50\n",
      "51\n",
      "52\n",
      "53\n",
      "54\n",
      "55\n",
      "56\n",
      "57\n",
      "58\n",
      "59\n",
      "60\n",
      "61\n",
      "62\n",
      "63\n",
      "64\n",
      "65\n",
      "66\n",
      "67\n",
      "68\n",
      "69\n",
      "70\n",
      "71\n",
      "72\n",
      "73\n",
      "74\n",
      "75\n",
      "76\n",
      "77\n",
      "78\n",
      "79\n",
      "80\n",
      "81\n",
      "82\n",
      "83\n",
      "84\n",
      "85\n",
      "86\n",
      "87\n",
      "88\n",
      "89\n",
      "90\n",
      "91\n",
      "92\n",
      "93\n",
      "94\n",
      "95\n",
      "96\n",
      "97\n",
      "98\n",
      "99\n"
     ]
    }
   ],
   "source": [
    "import random\n",
    "random.seed(123) # introducing a seed for reproducibility purposes\n",
    "lst = list(range(100))\n",
    "random.shuffle(lst)\n",
    "for a in range(100):\n",
    "    print(qselect(lst, a))\n"
   ]
  },
  {
   "cell_type": "markdown",
   "metadata": {
    "deletable": false,
    "editable": false,
    "nbgrader": {
     "checksum": "3fede812466807c2a250ab3c6427f75c",
     "grade": false,
     "grade_id": "cell-e7a965de7bb56aa3",
     "locked": true,
     "schema_version": 1,
     "solution": false
    }
   },
   "source": [
    "## Question 3.\n",
    "\n",
    "Write down the recurrence relation for your code."
   ]
  },
  {
   "cell_type": "markdown",
   "metadata": {
    "deletable": false,
    "nbgrader": {
     "checksum": "6fb3d2481f5df1b96c902e5446844f87",
     "grade": true,
     "grade_id": "cell-24144607b3ffade3",
     "locked": false,
     "points": 0,
     "schema_version": 1,
     "solution": true
    }
   },
   "source": [
    "The recursion occurs in a subarray of length n/2, so it takes the form T(n/2). We also have the partition function whose time complexity is O(n). The function to find the median has constant time, so the big-O is O(1).\n",
    "\n",
    "Finally, we can write the recursive relation as:\n",
    "$T(n) = T(n/2) + O(n) + O(1)$\n",
    "We can also write this as O(n)."
   ]
  },
  {
   "cell_type": "markdown",
   "metadata": {
    "deletable": false,
    "editable": false,
    "nbgrader": {
     "checksum": "311ee23a32dbc3ba43d3bba0d433871b",
     "grade": false,
     "grade_id": "cell-fd740516f4259f3c",
     "locked": true,
     "schema_version": 1,
     "solution": false
    }
   },
   "source": [
    "## Question 4.\n",
    "\n",
    "Solve the recurrence relation for quickselect in the best case.\n"
   ]
  },
  {
   "cell_type": "markdown",
   "metadata": {
    "deletable": false,
    "nbgrader": {
     "checksum": "78416da569a0269f78967b11d7b93332",
     "grade": true,
     "grade_id": "cell-c125f4742933e820",
     "locked": false,
     "points": 0,
     "schema_version": 1,
     "solution": true
    }
   },
   "source": [
    "The function can be expanded to understand the pattern.\n",
    "$O(n) + O(n/2) + ... + O(1)$. This is equal to O(2n). We can safely disregard the constant, since we are only concerned with the order of growth. So, the complexity for the best case is O(n)."
   ]
  },
  {
   "cell_type": "markdown",
   "metadata": {
    "deletable": false,
    "editable": false,
    "nbgrader": {
     "checksum": "7cc9c5e0531e8ece71be2ff60ee65995",
     "grade": false,
     "grade_id": "cell-e281cecc190fd662",
     "locked": true,
     "schema_version": 1,
     "solution": false
    }
   },
   "source": [
    "## Question 5.\n",
    "\n",
    "Solve the recurrence relation for quickselect in the worst case."
   ]
  },
  {
   "cell_type": "markdown",
   "metadata": {
    "deletable": false,
    "nbgrader": {
     "checksum": "f4cceeaea59e48c3fabdb8d19e302db5",
     "grade": true,
     "grade_id": "cell-852c3a71d8c2d7c1",
     "locked": false,
     "points": 0,
     "schema_version": 1,
     "solution": true
    }
   },
   "source": [
    "Worst case occurs when the partitioning is unbalanced, i.e. one sub array has n-1 elements, and the other has 0 elements. This happens when the pivot element we choose is either the largest or smallest value. The other comparison we need to make is to ensure the correctness of the $k^{th}$ element. We can write the relation as:\n",
    "$T(n) = T(n-1) + O(n) \\rightarrow O(n^2)$"
   ]
  },
  {
   "cell_type": "code",
   "execution_count": null,
   "metadata": {},
   "outputs": [],
   "source": []
  }
 ],
 "metadata": {
  "kernelspec": {
   "display_name": "Python 3",
   "language": "python",
   "name": "python3"
  },
  "language_info": {
   "codemirror_mode": {
    "name": "ipython",
    "version": 3
   },
   "file_extension": ".py",
   "mimetype": "text/x-python",
   "name": "python",
   "nbconvert_exporter": "python",
   "pygments_lexer": "ipython3",
   "version": "3.7.4"
  }
 },
 "nbformat": 4,
 "nbformat_minor": 2
}
