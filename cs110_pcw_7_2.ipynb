{
 "cells": [
  {
   "cell_type": "markdown",
   "metadata": {},
   "source": [
    "Before you turn this problem in, make sure everything runs as expected. First, **restart the kernel** (in the menubar, select Kernel$\\rightarrow$Restart) and then **run all cells** (in the menubar, select Cell$\\rightarrow$Run All).\n",
    "\n",
    "Make sure you fill in any place that says `YOUR CODE HERE` or \"YOUR ANSWER HERE\", as well as your name and collaborators below:"
   ]
  },
  {
   "cell_type": "code",
   "execution_count": 1,
   "metadata": {},
   "outputs": [],
   "source": [
    "NAME = \"Batsal Ghimire\"\n",
    "COLLABORATORS = \"\""
   ]
  },
  {
   "cell_type": "markdown",
   "metadata": {},
   "source": [
    "---"
   ]
  },
  {
   "cell_type": "markdown",
   "metadata": {
    "deletable": false,
    "editable": false,
    "nbgrader": {
     "checksum": "2843e94073cad72d7107eb55b3f5d153",
     "grade": false,
     "grade_id": "cell-5b237cc13279b029",
     "locked": true,
     "schema_version": 1,
     "solution": false
    }
   },
   "source": [
    "# CS110 Pre-class Work 7.2\n",
    "\n",
    "## Part A. Direct Address Tables\n",
    "As the first step in setting up a crossword solving algorithm you need to create 2 direct address tables, one to store all the “up” answers-whether correct or not-and one to store all the “across” answers. Write python code to create a direct address table that allows you to:\n",
    "\n",
    "1. initialize N empty guesses\n",
    "2. set a guess for the i-th entry\n",
    "3. clear an incorrect guess for the i-th entry\n"
   ]
  },
  {
   "cell_type": "code",
   "execution_count": 2,
   "metadata": {
    "deletable": false,
    "nbgrader": {
     "checksum": "69e5d714c7245702b8732209ea0b2b42",
     "grade": true,
     "grade_id": "cell-d8d2e3c1b136cdb9",
     "locked": false,
     "points": 0,
     "schema_version": 1,
     "solution": true
    }
   },
   "outputs": [
    {
     "name": "stdout",
     "output_type": "stream",
     "text": [
      "[None, None, None, None, None, None, None, None]\n",
      "[None, None, None, None, None, 'Hello', None, None]\n",
      "[None, None, None, None, None, None, None, None]\n"
     ]
    }
   ],
   "source": [
    "def table(N):\n",
    "    G = []\n",
    "    for i in range(N):\n",
    "        G.append(None)\n",
    "    return G\n",
    "    \n",
    "def guess(G, pos, guess):\n",
    "    G[pos] = guess\n",
    "\n",
    "def clear_(G, pos):\n",
    "    G[pos] = None\n",
    "    \n",
    "N = 8\n",
    "tab = table(N)\n",
    "print (tab)\n",
    "guess(tab, 5, 'Hello')\n",
    "print (tab)\n",
    "clear_(tab, 5)\n",
    "print (tab)"
   ]
  },
  {
   "cell_type": "markdown",
   "metadata": {
    "deletable": false,
    "editable": false,
    "nbgrader": {
     "checksum": "cdb562114e50f9ce1c97be3536b59efa",
     "grade": false,
     "grade_id": "cell-b27891b3ff16f730",
     "locked": true,
     "schema_version": 1,
     "solution": false
    }
   },
   "source": [
    "## Part B. Social Security\n",
    "\n",
    "Could we use a direct address table to store a country's entire set of social security numbers (aka id numbers)? Why or why not?\n"
   ]
  },
  {
   "cell_type": "markdown",
   "metadata": {
    "deletable": false,
    "nbgrader": {
     "checksum": "7b193e66cbea5bd9dac131a3d6adfefa",
     "grade": true,
     "grade_id": "cell-e751647d9af78c11",
     "locked": false,
     "points": 0,
     "schema_version": 1,
     "solution": true
    }
   },
   "source": [
    "Storing an entire country's social security numbers might be possible using direct address table, but it is not an efficient way of storing the infomration. SSNs are unique numbers, so there will only be one element per key (that is our assumption). However, the size is a big constraint as the universe of the keys will be more than the actual keys we will have. Hence, it will use a very large amount of memory and there might be memory limitations involved. Also, as new people obtain new SSNs, we might need to adjust the whole map to find the optimal position. "
   ]
  },
  {
   "cell_type": "markdown",
   "metadata": {
    "deletable": false,
    "editable": false,
    "nbgrader": {
     "checksum": "35f74a7f882cabb36df7ee2c43ee51db",
     "grade": false,
     "grade_id": "cell-cba2028918eea1fd",
     "locked": true,
     "schema_version": 1,
     "solution": false
    }
   },
   "source": [
    "## Part C. Chained Hash-table\n",
    "\n",
    "## Question 1.\n",
    "\n",
    "Using the code in the cell below, complete the missing sections of code. You should copy and paste the code in an additional cell and fill in the code there."
   ]
  },
  {
   "cell_type": "code",
   "execution_count": 9,
   "metadata": {
    "deletable": false,
    "editable": false,
    "nbgrader": {
     "checksum": "ffc1d9c145de9e5c52f96dfdc8a66fe2",
     "grade": false,
     "grade_id": "cell-9e41d88b035338f4",
     "locked": true,
     "schema_version": 1,
     "solution": false
    }
   },
   "outputs": [],
   "source": [
    "import random\n",
    "import string\n",
    "\n",
    "\n",
    "def randomword(length):\n",
    "    return ''.join(random.choice(string.ascii_lowercase) for i in range(length))\n",
    "\n",
    "\n",
    "def empty_hash_table(N):\n",
    "    return [[] for n in range(N)]\n",
    "\n",
    "\n",
    "def add_to_hash_table(hash_table, item, hash_function):\n",
    "    N = len(hash_table)\n",
    "    # Your code here\n",
    "    return hash_table\n",
    "\n",
    "\n",
    "def contains(hash_table, item, hash_function):\n",
    "    N = len(hash_table)\n",
    "    # Your code here\n",
    "    # return true if the item has already been stored in the hash_table\n",
    "\n",
    "\n",
    "def remove(hash_table, item, hash_function):\n",
    "    if not contains(hash_table, item, hash_function):\n",
    "        raise ValueError()\n",
    "    # Your code here\n",
    "    return hash_table\n",
    "\n",
    "\n",
    "def hash_str1(string):\n",
    "    ans = 0\n",
    "    for chr in string:\n",
    "        ans += ord(chr)\n",
    "    return ans\n",
    "\n",
    "def hash_str2(string):\n",
    "    ans=int(ord(string[0]))\n",
    "    for ix in range(1, len(string)):\n",
    "        ans = ans ^ ord(string[ix]) \n",
    "    return int(bin(ans).split('b')[1])\n",
    "\n",
    "\n",
    "def hash_str3(string):\n",
    "    ans = 0\n",
    "    for chr in string:\n",
    "        ans = ans * 128 + ord(chr)\n",
    "    return ans\n",
    "\n",
    "\n",
    "def hash_str4(string):\n",
    "    random.seed(ord(string[0]))\n",
    "    return random.getrandbits(32)"
   ]
  },
  {
   "cell_type": "code",
   "execution_count": 10,
   "metadata": {},
   "outputs": [],
   "source": [
    "import random\n",
    "import string\n",
    "\n",
    "\n",
    "def randomword(length):\n",
    "    return ''.join(random.choice(string.ascii_lowercase) for i in range(length))\n",
    "\n",
    "\n",
    "def empty_hash_table(N):\n",
    "    return [[] for n in range(N)]\n",
    "\n",
    "\n",
    "def add_to_hash_table(hash_table, item, hash_function):\n",
    "    N = len(hash_table)\n",
    "    key = hash_function(item)\n",
    "    ind = key % N\n",
    "    hash_table[ind].append(item)\n",
    "    return hash_table\n",
    "\n",
    "\n",
    "def contains(hash_table, item, hash_function):\n",
    "    N = len(hash_table)\n",
    "    # return true if the item has already been stored in the hash_table\n",
    "    key= hash_function(item)\n",
    "    ind = key%N\n",
    "    for val in hash_table[ind]:\n",
    "        if val == item:\n",
    "            return True\n",
    "\n",
    "def remove(hash_table, item, hash_function):\n",
    "    if not contains(hash_table, item, hash_function):\n",
    "        raise ValueError()\n",
    "    key = hash_function(item)\n",
    "    ind = key%N\n",
    "    del[hash_table[ind]]\n",
    "    return hash_table\n",
    "\n",
    "\n",
    "def hash_str1(string):\n",
    "    ans = 0\n",
    "    for chr in string:\n",
    "        ans += ord(chr)\n",
    "    return ans\n",
    "\n",
    "def hash_str2(string):\n",
    "    ans=int(ord(string[0]))\n",
    "    for ix in range(1, len(string)):\n",
    "        ans = ans ^ ord(string[ix]) \n",
    "    return int(bin(ans).split('b')[1])\n",
    "\n",
    "\n",
    "def hash_str3(string):\n",
    "    ans = 0\n",
    "    for chr in string:\n",
    "        ans = ans * 128 + ord(chr)\n",
    "    return ans\n",
    "\n",
    "\n",
    "def hash_str4(string):\n",
    "    random.seed(ord(string[0]))\n",
    "    return random.getrandbits(32)"
   ]
  },
  {
   "cell_type": "code",
   "execution_count": null,
   "metadata": {
    "deletable": false,
    "nbgrader": {
     "checksum": "b39c1af2de8a4581d16a2d630fcaac74",
     "grade": true,
     "grade_id": "cell-1b6cc6df105c101f",
     "locked": false,
     "points": 0,
     "schema_version": 1,
     "solution": true
    }
   },
   "outputs": [],
   "source": []
  },
  {
   "cell_type": "markdown",
   "metadata": {
    "deletable": false,
    "editable": false,
    "nbgrader": {
     "checksum": "d323c68243f6d1fe79cbf5ad01ee85ae",
     "grade": false,
     "grade_id": "cell-66fb150dd2e509a7",
     "locked": true,
     "schema_version": 1,
     "solution": false
    }
   },
   "source": [
    "## Question 2.\n",
    "Using the code, create 100,000 words of 10 characters each.\n"
   ]
  },
  {
   "cell_type": "code",
   "execution_count": 11,
   "metadata": {
    "deletable": false,
    "nbgrader": {
     "checksum": "b9d2f1faad23eecd6f3691968bb4e455",
     "grade": true,
     "grade_id": "cell-234b1e83c871ddc7",
     "locked": false,
     "points": 0,
     "schema_version": 1,
     "solution": true
    }
   },
   "outputs": [],
   "source": [
    "words = [randomword(10) for i in range (100000)]"
   ]
  },
  {
   "cell_type": "markdown",
   "metadata": {
    "deletable": false,
    "editable": false,
    "nbgrader": {
     "checksum": "190e7fdc00fc311f5ff32a390fff1ca4",
     "grade": false,
     "grade_id": "cell-2fbadca52cec7230",
     "locked": true,
     "schema_version": 1,
     "solution": false
    }
   },
   "source": [
    "## Question 3.\n",
    "\n",
    "Create four chained hash-tables with 5000 slots."
   ]
  },
  {
   "cell_type": "code",
   "execution_count": 12,
   "metadata": {
    "deletable": false,
    "nbgrader": {
     "checksum": "0d1473300ae336ceb57d11687ab3ec0a",
     "grade": true,
     "grade_id": "cell-2dabefc41493ec16",
     "locked": false,
     "points": 0,
     "schema_version": 1,
     "solution": true
    }
   },
   "outputs": [],
   "source": [
    "N = 5000\n",
    "tab1 = empty_hash_table(N)\n",
    "tab2 = empty_hash_table(N)\n",
    "tab3 = empty_hash_table(N)\n",
    "tab4 = empty_hash_table(N)"
   ]
  },
  {
   "cell_type": "markdown",
   "metadata": {
    "deletable": false,
    "editable": false,
    "nbgrader": {
     "checksum": "c3d147917ae237a6dc75eddab48dbaa6",
     "grade": false,
     "grade_id": "cell-cc2e6d00330e691e",
     "locked": true,
     "schema_version": 1,
     "solution": false
    }
   },
   "source": [
    "## Question 4.\n",
    "\n",
    "Store all the words in each chained hash table using each of the different hash functions."
   ]
  },
  {
   "cell_type": "code",
   "execution_count": 13,
   "metadata": {
    "deletable": false,
    "nbgrader": {
     "checksum": "af209dceb17bf5f8d9fadf0808855f79",
     "grade": true,
     "grade_id": "cell-8a08ade8d45590a7",
     "locked": false,
     "points": 0,
     "schema_version": 1,
     "solution": true
    }
   },
   "outputs": [],
   "source": [
    "for i in words:\n",
    "    tab1 = add_to_hash_table(tab1, i, hash_str1)\n",
    "    tab2 = add_to_hash_table(tab2, i, hash_str2)\n",
    "    tab3 = add_to_hash_table(tab3, i, hash_str3)\n",
    "    tab4 = add_to_hash_table(tab4, i, hash_str4)"
   ]
  },
  {
   "cell_type": "markdown",
   "metadata": {
    "deletable": false,
    "editable": false,
    "nbgrader": {
     "checksum": "858437d142a66b825fb0bebdb1c4d9fe",
     "grade": false,
     "grade_id": "cell-da2c8b42618fbde4",
     "locked": true,
     "schema_version": 1,
     "solution": false
    }
   },
   "source": [
    "## Question 5.\n",
    "\n",
    "Measure the number of collisions for each hash function."
   ]
  },
  {
   "cell_type": "code",
   "execution_count": 15,
   "metadata": {
    "deletable": false,
    "nbgrader": {
     "checksum": "156f57bc1c6c1a3e10ca1804aa205099",
     "grade": true,
     "grade_id": "cell-a968f9e14a0416c4",
     "locked": false,
     "points": 0,
     "schema_version": 1,
     "solution": true
    }
   },
   "outputs": [
    {
     "name": "stdout",
     "output_type": "stream",
     "text": [
      "Number of collisions for 1 is 99823\n",
      "Number of collisions for 2 is 99984\n",
      "Number of collisions for 3 is 95000\n",
      "Number of collisions for 4 is 99974\n"
     ]
    }
   ],
   "source": [
    "#Initalize the number of collisions of each hash function as 0\n",
    "sum_1 = 0\n",
    "sum_2 = 0\n",
    "sum_3 = 0\n",
    "sum_4 = 0\n",
    "#If there are more than one elements, then there is a collision. So,we can look at the number of slots that have more than one element. If a slot has one element, then it would not have collision, so we need to subtract the length by 1 for colliding slots.\n",
    "for i in range(5000):\n",
    "    if len(tab1[i])>1:\n",
    "        sum_1 = sum_1+(len(tab1[i]))-1\n",
    "    if len(tab2[i])>1:\n",
    "        sum_2 = sum_2+(len(tab2[i]))-1\n",
    "    if len(tab3[i])>1:\n",
    "        sum_3 = sum_3+(len(tab3[i]))-1\n",
    "    if len(tab4[i])>1:\n",
    "        sum_4 = sum_4+(len(tab4[i]))-1\n",
    "        \n",
    "num=1\n",
    "for i in (sum_1, sum_2, sum_3, sum_4):\n",
    "    print('Number of collisions for %d' %num, 'is %d' %i)\n",
    "    num+=1\n"
   ]
  },
  {
   "cell_type": "markdown",
   "metadata": {
    "deletable": false,
    "editable": false,
    "nbgrader": {
     "checksum": "ef47cabb10897284ca375490003e6b3d",
     "grade": false,
     "grade_id": "cell-435ba1cfb2d80447",
     "locked": true,
     "schema_version": 1,
     "solution": false
    }
   },
   "source": [
    "## Question 6.\n",
    "\n",
    "For each of the hash functions, how many elements are in a bucket on average (if it is not empty)?\n"
   ]
  },
  {
   "cell_type": "code",
   "execution_count": 17,
   "metadata": {
    "deletable": false,
    "nbgrader": {
     "checksum": "9f77d346c6e5ffbfb92ac0707c3c1d72",
     "grade": true,
     "grade_id": "cell-b4052afa2ee7c702",
     "locked": false,
     "points": 0,
     "schema_version": 1,
     "solution": true
    }
   },
   "outputs": [
    {
     "name": "stdout",
     "output_type": "stream",
     "text": [
      "Average number for 5 is 564.971751\n",
      "Average number for 5 is 25491553.062500\n",
      "Average number for 5 is 20.000000\n",
      "Average number for 5 is 3846.153846\n"
     ]
    }
   ],
   "source": [
    "n1=0\n",
    "n2=0\n",
    "n3=0\n",
    "n4=0\n",
    "avg1 = 0\n",
    "avg2 = 0\n",
    "avg3 = 0\n",
    "avg4 = 0\n",
    "\n",
    "for i in range(5000):\n",
    "    if len(tab1[i])>0:\n",
    "        avg1 = avg1 + (len(tab1[i]))\n",
    "        n1+=1\n",
    "        \n",
    "    if len(tab2[i])>0:\n",
    "        avg2+= avg2 + len(tab2[i])\n",
    "        n2+=1\n",
    "        \n",
    "    if len(tab3[i])>0:\n",
    "        avg3 = avg3 + len(tab3[i])\n",
    "        n3+=1\n",
    "        \n",
    "    if len(tab4[i])>0:\n",
    "        avg4 = avg4 + len(tab4[i])\n",
    "        n4+=1\n",
    "\n",
    "n=1\n",
    "for i in (avg1 / n1, avg2/n2, avg3/n3, avg4/n4):\n",
    "    print('Average number for %d' %num, 'is %f' %i)\n",
    "    n+=1\n"
   ]
  },
  {
   "cell_type": "markdown",
   "metadata": {
    "deletable": false,
    "editable": false,
    "nbgrader": {
     "checksum": "aaeb9bd55b7a86f8bc8079cbb7f8bca4",
     "grade": false,
     "grade_id": "cell-b86aef4dd22c236c",
     "locked": true,
     "schema_version": 1,
     "solution": false
    }
   },
   "source": [
    "## Question 7.\n",
    "\n",
    "Time how long it takes to find elements that are in each hash table.\n"
   ]
  },
  {
   "cell_type": "code",
   "execution_count": 18,
   "metadata": {
    "deletable": false,
    "nbgrader": {
     "checksum": "23927c46b8067f49ef10e9b4183f7680",
     "grade": true,
     "grade_id": "cell-0605f7dec7128414",
     "locked": false,
     "points": 0,
     "schema_version": 1,
     "solution": true
    }
   },
   "outputs": [
    {
     "name": "stdout",
     "output_type": "stream",
     "text": [
      "Finding a word with hash function 1  takes 0.000041 seconds per word.\n",
      "Finding a word with hash function 2  takes 0.000496 seconds per word.\n",
      "Finding a word with hash function 3  takes 0.000000 seconds per word.\n",
      "Finding a word with hash function 4  takes 0.000000 seconds per word.\n"
     ]
    }
   ],
   "source": [
    "import time\n",
    "#Initializing the variables to hold time for each function\n",
    "ti_1 = 0\n",
    "ti_2 = 0\n",
    "ti_3 = 0\n",
    "ti_4 = 0\n",
    "\n",
    "for i in words: #Finding how long it takes for each hash function to find one word from 'words'\n",
    "    begin = time.time() #Start the timer\n",
    "    contains(tab1, i, hash_str1)\n",
    "    ti_1 = ti_1 + time.time() - begin\n",
    "    \n",
    "    begin = time.time() #Start the timer\n",
    "    contains(tab2, i, hash_str2)\n",
    "    ti_2 = ti_2 + time.time() - begin #Find the time\n",
    "    \n",
    "    begin = time.time() #Start the timer\n",
    "    contains(tab2, i, hash_str2)\n",
    "    ti_2 = ti_2 + time.time() - begin\n",
    "    \n",
    "    begin = time.time() #Start the timer\n",
    "    contains(tab2, i, hash_str2)\n",
    "    ti_2 = ti_2 + time.time() - begin\n",
    "    \n",
    "n = 1\n",
    "for j in (ti_1/100000, ti_2/100000, ti_3/100000, ti_4/100000):#finds the avg time\n",
    "    print (\"Finding a word with hash function %d\" %n, ' takes %f seconds per word.' %j)\n",
    "    n = n+1"
   ]
  },
  {
   "cell_type": "markdown",
   "metadata": {
    "deletable": false,
    "editable": false,
    "nbgrader": {
     "checksum": "b051093ca9a2faf1658679380bf29033",
     "grade": false,
     "grade_id": "cell-75db2c2e62cec090",
     "locked": true,
     "schema_version": 1,
     "solution": false
    }
   },
   "source": [
    "## Question 8.\n",
    "For each hash table, time how long it takes to find 10,000 elements that have not been stored."
   ]
  },
  {
   "cell_type": "code",
   "execution_count": 19,
   "metadata": {
    "deletable": false,
    "nbgrader": {
     "checksum": "99b2fa8c88000c2143cb00fac1f6aa5f",
     "grade": true,
     "grade_id": "cell-b846b45e1b98ae59",
     "locked": false,
     "points": 0,
     "schema_version": 1,
     "solution": true
    }
   },
   "outputs": [
    {
     "name": "stdout",
     "output_type": "stream",
     "text": [
      "Finding 10000 items that has not been stored using 1  takes 0.000006 seconds per word.\n",
      "Finding 10000 items that has not been stored using 2  takes 0.001577 seconds per word.\n",
      "Finding 10000 items that has not been stored using 3  takes 0.000000 seconds per word.\n",
      "Finding 10000 items that has not been stored using 4  takes 0.000000 seconds per word.\n"
     ]
    }
   ],
   "source": [
    "import time\n",
    "#Initializing the variables to hold time for each function\n",
    "ti_1 = 0\n",
    "ti_2 = 0\n",
    "ti_3 = 0\n",
    "ti_4 = 0\n",
    "\n",
    "w = []\n",
    "tot = 10000\n",
    "for j in range(tot):\n",
    "    w.append(randomword(6))\n",
    "\n",
    "for i in w: #Finding how long it takes for each hash function to find one word from 'words'\n",
    "    begin = time.time() #Start the timer\n",
    "    contains(tab1, i, hash_str1)\n",
    "    ti_1 = ti_1 + time.time() - begin\n",
    "    \n",
    "    begin = time.time() #Start the timer\n",
    "    contains(tab2, i, hash_str2)\n",
    "    ti_2 = ti_2 + time.time() - begin #Find the time\n",
    "    \n",
    "    begin = time.time() #Start the timer\n",
    "    contains(tab2, i, hash_str2)\n",
    "    ti_2 = ti_2 + time.time() - begin\n",
    "    \n",
    "    begin = time.time() #Start the timer\n",
    "    contains(tab2, i, hash_str2)\n",
    "    ti_2 = ti_2 + time.time() - begin\n",
    "    \n",
    "n = 1\n",
    "for j in (ti_1/tot, ti_2/tot, ti_3/tot, ti_4/tot):#finds the avg time\n",
    "    print (\"Finding 10000 items that has not been stored using %d\" %n, ' takes %f seconds per word.' %j)\n",
    "    n = n+1"
   ]
  },
  {
   "cell_type": "code",
   "execution_count": null,
   "metadata": {},
   "outputs": [],
   "source": []
  }
 ],
 "metadata": {
  "kernelspec": {
   "display_name": "Python 3",
   "language": "python",
   "name": "python3"
  },
  "language_info": {
   "codemirror_mode": {
    "name": "ipython",
    "version": 3
   },
   "file_extension": ".py",
   "mimetype": "text/x-python",
   "name": "python",
   "nbconvert_exporter": "python",
   "pygments_lexer": "ipython3",
   "version": "3.7.4"
  }
 },
 "nbformat": 4,
 "nbformat_minor": 2
}
